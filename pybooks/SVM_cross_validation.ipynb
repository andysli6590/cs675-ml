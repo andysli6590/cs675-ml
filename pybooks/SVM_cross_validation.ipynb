{
 "cells": [
  {
   "cell_type": "markdown",
   "metadata": {},
   "source": [
    "### Play with the Model\n",
    "\n",
    "    Load the model saved to disk and play around with it to check predictions and score.    "
   ]
  },
  {
   "cell_type": "code",
   "execution_count": 3,
   "metadata": {
    "collapsed": true
   },
   "outputs": [],
   "source": [
    "# Load Imports as required\n",
    "\n",
    "import numpy ;\n",
    "import pandas as pd;\n",
    "from sklearn.externals import joblib;\n",
    "from sklearn import cross_validation;\n"
   ]
  },
  {
   "cell_type": "code",
   "execution_count": 2,
   "metadata": {
    "collapsed": true
   },
   "outputs": [],
   "source": [
    "train_data_loc = '../results/data_without_na.csv';\n",
    "train_labels_loc = '../dataset/trueclass.txt';\n",
    "test_labels_loc = '../dataset/testdata/testdata.txt';\n",
    "\n",
    "data_df = pd.read_csv(train_data_loc, sep =\",\", index_col = [0], header = 0);\n",
    "labels_df = pd.read_csv(train_labels_loc, sep=\" \", header = 0, index_col= 1);"
   ]
  },
  {
   "cell_type": "code",
   "execution_count": 5,
   "metadata": {
    "collapsed": false
   },
   "outputs": [],
   "source": [
    "# load the model\n",
    "\n",
    "model = joblib.load('../models/svm_training_split.pkl');\n",
    "\n",
    "# Prepare test and training set\n",
    "\n",
    "#label_numpy_arr = labels_df[:,0].ravel();\n",
    "\n",
    "X_train, X_test, y_train, y_test = cross_validation.train_test_split (\n",
    "    data_df, labels_df, test_size=0.2, random_state=0)\n"
   ]
  },
  {
   "cell_type": "code",
   "execution_count": 7,
   "metadata": {
    "collapsed": false
   },
   "outputs": [],
   "source": [
    "cscore = model.score(X_test, y_test)   "
   ]
  },
  {
   "cell_type": "code",
   "execution_count": 8,
   "metadata": {
    "collapsed": false
   },
   "outputs": [
    {
     "name": "stdout",
     "output_type": "stream",
     "text": [
      "0.58375\n"
     ]
    }
   ],
   "source": [
    "print(cscore)"
   ]
  }
 ],
 "metadata": {
  "kernelspec": {
   "display_name": "Python [conda root]",
   "language": "python",
   "name": "conda-root-py"
  },
  "language_info": {
   "codemirror_mode": {
    "name": "ipython",
    "version": 3
   },
   "file_extension": ".py",
   "mimetype": "text/x-python",
   "name": "python",
   "nbconvert_exporter": "python",
   "pygments_lexer": "ipython3",
   "version": "3.5.2"
  }
 },
 "nbformat": 4,
 "nbformat_minor": 1
}
