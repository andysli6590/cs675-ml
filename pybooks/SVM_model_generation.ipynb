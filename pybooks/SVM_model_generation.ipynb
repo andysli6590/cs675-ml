{
 "cells": [
  {
   "cell_type": "markdown",
   "metadata": {},
   "source": [
    "### Load training dataset\n",
    "\n",
    "    Writing a sample for running SVM on training dataset. Using feature selection of threshold 25% of mean variance.\n",
    "    "
   ]
  },
  {
   "cell_type": "code",
   "execution_count": 9,
   "metadata": {
    "collapsed": false
   },
   "outputs": [],
   "source": [
    "import numpy ;\n",
    "import pandas as pd;\n",
    "import os;\n",
    "from sklearn.externals import joblib;\n",
    "from sklearn import svm;\n",
    "\n",
    "train_data_loc = '../results/data_without_na.csv';\n",
    "train_labels_loc = '../dataset/trueclass.txt';\n",
    "test_labels_loc = '../dataset/testdata/testdata.txt';\n",
    "\n",
    "data_df = pd.read_csv(train_data_loc, sep =\",\", index_col = [0], header = 0);\n",
    "labels_df = pd.read_csv(train_labels_loc, sep=\" \", header = 0, index_col= 1);"
   ]
  },
  {
   "cell_type": "markdown",
   "metadata": {},
   "source": [
    "### Now you can load the pickel from disk and play again .\n"
   ]
  },
  {
   "cell_type": "code",
   "execution_count": 10,
   "metadata": {
    "collapsed": false
   },
   "outputs": [],
   "source": [
    "# now let's try creating cross validation results\n",
    "from sklearn import cross_validation\n",
    "\n",
    "#label_numpy_arr = labels_df[:,0].ravel();\n",
    "\n",
    "X_train, X_test, y_train, y_test = cross_validation.train_test_split (\n",
    "    data_df, labels_df, test_size=0.2, random_state=0)\n",
    "\n"
   ]
  },
  {
   "cell_type": "code",
   "execution_count": null,
   "metadata": {
    "collapsed": false
   },
   "outputs": [],
   "source": [
    "# X train - training data\n",
    "# X Test - testing data\n",
    "# Y train - training labels\n",
    "# Y_labels - testing labels\n",
    "\n",
    "train_labels = y_train.iloc[:,0].ravel()\n",
    "\n",
    "clf = svm.SVC()\n",
    "clf.fit(X_train, train_labels)  "
   ]
  },
  {
   "cell_type": "code",
   "execution_count": 12,
   "metadata": {
    "collapsed": false
   },
   "outputs": [
    {
     "data": {
      "text/plain": [
       "['../models/svm_training_split.pkl',\n",
       " '../models/svm_training_split.pkl_01.npy',\n",
       " '../models/svm_training_split.pkl_02.npy',\n",
       " '../models/svm_training_split.pkl_03.npy',\n",
       " '../models/svm_training_split.pkl_04.npy',\n",
       " '../models/svm_training_split.pkl_05.npy',\n",
       " '../models/svm_training_split.pkl_06.npy',\n",
       " '../models/svm_training_split.pkl_07.npy',\n",
       " '../models/svm_training_split.pkl_08.npy',\n",
       " '../models/svm_training_split.pkl_09.npy',\n",
       " '../models/svm_training_split.pkl_10.npy',\n",
       " '../models/svm_training_split.pkl_11.npy']"
      ]
     },
     "execution_count": 12,
     "metadata": {},
     "output_type": "execute_result"
    }
   ],
   "source": [
    "joblib.dump(clf,'../models/svm_training_split.pkl')"
   ]
  },
  {
   "cell_type": "code",
   "execution_count": 13,
   "metadata": {
    "collapsed": false
   },
   "outputs": [
    {
     "name": "stdout",
     "output_type": "stream",
     "text": [
      "0.58375\n"
     ]
    }
   ],
   "source": [
    "cscore = clf.score(X_test, y_test)     \n",
    "print(cscore)"
   ]
  },
  {
   "cell_type": "code",
   "execution_count": 14,
   "metadata": {
    "collapsed": false
   },
   "outputs": [
    {
     "name": "stdout",
     "output_type": "stream",
     "text": [
      "<class 'numpy.ndarray'>\n"
     ]
    }
   ],
   "source": [
    "t = y_train.iloc[:,0].ravel();\n",
    "print(type(t))"
   ]
  }
 ],
 "metadata": {
  "anaconda-cloud": {},
  "kernelspec": {
   "display_name": "Python [conda root]",
   "language": "python",
   "name": "conda-root-py"
  },
  "language_info": {
   "codemirror_mode": {
    "name": "ipython",
    "version": 3
   },
   "file_extension": ".py",
   "mimetype": "text/x-python",
   "name": "python",
   "nbconvert_exporter": "python",
   "pygments_lexer": "ipython3",
   "version": "3.5.2"
  }
 },
 "nbformat": 4,
 "nbformat_minor": 1
}
