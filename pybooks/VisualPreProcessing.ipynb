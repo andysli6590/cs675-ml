{
 "cells": [
  {
   "cell_type": "markdown",
   "metadata": {},
   "source": [
    "# Preprocessing Dataset\n",
    "\n",
    "### Load Data\n",
    "\n",
    "    Loading labels and training dataset into memory. \n",
    "    Use pandas dataframe object for easy data analysis and manipulation."
   ]
  },
  {
   "cell_type": "code",
   "execution_count": 41,
   "metadata": {
    "collapsed": false
   },
   "outputs": [],
   "source": [
    "import numpy ;\n",
    "import pandas as pd;\n",
    "\n",
    "train_data_loc = '../dataset/traindata/traindata.txt';\n",
    "train_labels_loc = '../dataset/trueclass.txt';\n",
    "\n",
    "#train_data = numpy.loadtxt(train_data_loc);\n",
    "#train_labels = numpy.loadtxt(train_labels_loc);\n",
    "labels_df = pd.read_csv(train_labels_loc, sep=\" \", header = None);\n",
    "data_df = pd.read_csv(train_data_loc, sep =\" \", header = None);\n"
   ]
  },
  {
   "cell_type": "markdown",
   "metadata": {},
   "source": [
    "    Basic Data Cleaning Process. \n",
    "    Check for columns which has all NaN's and remove them\n",
    "    Rows do not have any NaN's so we are good to go. "
   ]
  },
  {
   "cell_type": "code",
   "execution_count": 42,
   "metadata": {
    "collapsed": false
   },
   "outputs": [
    {
     "name": "stdout",
     "output_type": "stream",
     "text": [
      "Number of Columns :  29639\n",
      "Number of Rows:  8000\n",
      "Number of Columns after Nan:  29623\n",
      "Number of Rows after Nan:  8000\n"
     ]
    }
   ],
   "source": [
    "# See rows and columns\n",
    "\n",
    "print('Number of Columns : ',len(data_df.columns))\n",
    "print('Number of Rows: ',len(data_df))\n",
    "\n",
    "# See if there are any NaN's \n",
    "#null_cols = data_df.isnull().any();\n",
    "#null_cols = null_cols[null_cols == True];\n",
    "\n",
    "# Drop columns that have all rows as Nan's\n",
    "data_df = data_df.dropna(how='all',axis = 'columns');\n",
    "\n",
    "#data_df = data_df.dropna(how = 'any', axis = 'index');\n",
    "\n",
    "# Number of columns dropped = 16\n",
    "print('Number of Columns after Nan: ', len(data_df.columns))\n",
    "print('Number of Rows after Nan: ', len(data_df))\n"
   ]
  },
  {
   "cell_type": "markdown",
   "metadata": {},
   "source": [
    "    Find mean, variance, mode of each feature to get an idea\n",
    "    Also, we focus on high variance features because they'll contribute to classification\n",
    "    We take variance of each column and find mean of variance, and features who's variance is pretty low then rest \n",
    "    of the features we remove them. Essentially, we are trying to take best 70% of columns with high variance"
   ]
  },
  {
   "cell_type": "code",
   "execution_count": 40,
   "metadata": {
    "collapsed": false
   },
   "outputs": [
    {
     "name": "stdout",
     "output_type": "stream",
     "text": [
      "Features in original dataframe 18387\n",
      "Features in dataframe  17600\n"
     ]
    }
   ],
   "source": [
    "column_variance = data_df.var();\n",
    "\n",
    "# Get mean of all variances to understand which columns with low variances can we remove\n",
    "#column_variance.to_csv(path='column_variance.csv')\n",
    "\n",
    "print('Features in original dataframe', len(column_variance) )\n",
    "\n",
    "# get quick summary of all datasets \n",
    "#print(column_variance.describe())\n",
    " \n",
    "mean_variances = column_variance.mean()\n",
    "#print('Mean Of variances ', mean_variances)\n",
    "\n",
    "# Remove columns whose variance is less than \n",
    "# 1/4 of mean of variance.\n",
    "\n",
    "cut_off_margin = 0.25;\n",
    "margin = mean_variances - cut_off_margin*mean_variances; \n",
    "\n",
    "df = data_df.loc[:, data_df.var() > margin]\n",
    "print('Features in dataframe ', len(df.columns))"
   ]
  }
 ],
 "metadata": {
  "anaconda-cloud": {},
  "kernelspec": {
   "display_name": "Python [conda root]",
   "language": "python",
   "name": "conda-root-py"
  },
  "language_info": {
   "codemirror_mode": {
    "name": "ipython",
    "version": 3
   },
   "file_extension": ".py",
   "mimetype": "text/x-python",
   "name": "python",
   "nbconvert_exporter": "python",
   "pygments_lexer": "ipython3",
   "version": "3.5.2"
  }
 },
 "nbformat": 4,
 "nbformat_minor": 1
}
