{
 "cells": [
  {
   "cell_type": "markdown",
   "metadata": {},
   "source": [
    "### Play around with Pearson Co relation \n",
    "We are trying to use pearson co relation as feature selection method. Since, variance threshold seems to be giving low results.\n",
    "It is possible that noisy data might be of high variance and we are just tracking noise, while the acutal data is buried among the noisy features. Since, pearson co relation works on labels and training features, the chance are pretty high of it being correct. "
   ]
  },
  {
   "cell_type": "code",
   "execution_count": 8,
   "metadata": {
    "collapsed": true
   },
   "outputs": [],
   "source": [
    "#### Load data set and libraries\n",
    "\n",
    "import numpy ;\n",
    "import pandas as pd;\n",
    "import os;\n",
    "\n",
    "\n",
    "#train_data_loc = '../dataset/traindata/traindata.txt';\n",
    "train_data_loc = '../results/data_without_na.csv';\n",
    "train_labels_loc = '../dataset/trueclass.txt';\n",
    "\n",
    "#data_df = pd.read_csv(train_data_loc, sep=\" \", index_col=[0]);\n",
    "data_df = pd.read_csv(train_data_loc, sep=\",\", header = 0, index_col=[0]);\n",
    "\n",
    "labels_df = pd.read_csv(train_labels_loc, sep=\" \", index_col= 1);"
   ]
  },
  {
   "cell_type": "code",
   "execution_count": 9,
   "metadata": {
    "collapsed": false
   },
   "outputs": [
    {
     "name": "stdout",
     "output_type": "stream",
     "text": [
      "['1' '2' '3' ..., '29634' '29635' '29636']\n"
     ]
    }
   ],
   "source": [
    "print(data_df.columns.values)"
   ]
  },
  {
   "cell_type": "code",
   "execution_count": 10,
   "metadata": {
    "collapsed": false
   },
   "outputs": [
    {
     "name": "stdout",
     "output_type": "stream",
     "text": [
      "Features in dataframe  29622\n"
     ]
    }
   ],
   "source": [
    "# data cleaning\n",
    "# TODO: create a seperate notebook for cleaning process.\n",
    "\n",
    "data_df = data_df.dropna(how='all',axis = 'columns');\n",
    "\n",
    "print('Features in dataframe ', len(data_df.columns))"
   ]
  },
  {
   "cell_type": "code",
   "execution_count": 11,
   "metadata": {
    "collapsed": false
   },
   "outputs": [],
   "source": [
    "from scipy.stats import pearsonr;\n",
    "\n",
    "cols = len(data_df.columns);\n",
    "labels = labels_df.iloc[:,0];\n",
    "corl = {};\n",
    "\n",
    "\n",
    "for i in range(cols):\n",
    "    \n",
    "    feature = data_df.iloc[:,i];\n",
    "    p = pearsonr(feature,labels)[0];\n",
    "    corl[i] = p\n",
    "\n"
   ]
  },
  {
   "cell_type": "code",
   "execution_count": 12,
   "metadata": {
    "collapsed": false
   },
   "outputs": [],
   "source": [
    "relations = pd.DataFrame.from_dict(corl,orient='index');\n",
    "\n",
    "#print(len(relations.columns))\n",
    "\n",
    "relations.to_csv('../results/pearson.csv');\n"
   ]
  },
  {
   "cell_type": "code",
   "execution_count": 13,
   "metadata": {
    "collapsed": false
   },
   "outputs": [
    {
     "name": "stdout",
     "output_type": "stream",
     "text": [
      "['1' '2' '3' ..., '29634' '29635' '29636']\n"
     ]
    }
   ],
   "source": [
    "# Sort the result\n",
    "rl  = relations.sort_values([0],ascending= False)\n",
    "\n",
    "# select top N items for further training\n",
    "top_n_selected = 30;\n",
    "\n",
    "kbest = rl.head(n=top_n_selected);\n",
    "#print(kbest)\n",
    "\n",
    "# get index values \n",
    "bestList = kbest.index.values.tolist();\n",
    "#print(bestList)\n",
    "print(data_df.columns.values)"
   ]
  },
  {
   "cell_type": "code",
   "execution_count": 14,
   "metadata": {
    "collapsed": false
   },
   "outputs": [
    {
     "name": "stdout",
     "output_type": "stream",
     "text": [
      "['27026' '15014' '21020' '11010' '1002' '5004' '28636' '7002' '21018'\n",
      " '17016' '19016' '9010' '11005' '11008' '7008' '11001' '15017' '15021'\n",
      " '9002' '5007' '19019' '7001' '11009' '21025' '15019' '21028' '11016'\n",
      " '7009' '1007' '15010']\n"
     ]
    }
   ],
   "source": [
    "## now we know that these columns are having high co relation \n",
    "## so we slice these columns and use it for training\n",
    "\n",
    "f1 = data_df.iloc[:,bestList];\n",
    "print(f1.columns.values)\n",
    "\n",
    "f1.to_csv(path_or_buf='../results/best_pearson_results_top'+str(top_n_selected)+'.csv',index= True);\n",
    "#print(data_df.iloc[:,27025])\n",
    "\n",
    "## TODO add the name for col seems incorrect\n",
    "## it shows 0.8"
   ]
  }
 ],
 "metadata": {
  "kernelspec": {
   "display_name": "Python [conda root]",
   "language": "python",
   "name": "conda-root-py"
  },
  "language_info": {
   "codemirror_mode": {
    "name": "ipython",
    "version": 3
   },
   "file_extension": ".py",
   "mimetype": "text/x-python",
   "name": "python",
   "nbconvert_exporter": "python",
   "pygments_lexer": "ipython3",
   "version": "3.5.2"
  }
 },
 "nbformat": 4,
 "nbformat_minor": 1
}
