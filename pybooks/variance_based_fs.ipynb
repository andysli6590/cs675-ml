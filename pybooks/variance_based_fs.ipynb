{
 "cells": [
  {
   "cell_type": "markdown",
   "metadata": {},
   "source": [
    "# Preprocessing Dataset\n",
    "\n",
    "### Load Data\n",
    "\n",
    "    Loading labels and training dataset into memory. \n",
    "    Use pandas dataframe object for easy data analysis and manipulation."
   ]
  },
  {
   "cell_type": "code",
   "execution_count": 1,
   "metadata": {
    "collapsed": false
   },
   "outputs": [],
   "source": [
    "import numpy ;\n",
    "import pandas as pd;\n",
    "import os;\n",
    "from sklearn.feature_selection import VarianceThreshold;\n",
    "\n",
    "\n",
    "train_data_loc = '../dataset/traindata/traindata.txt';\n",
    "train_labels_loc = '../dataset/trueclass.txt';\n",
    "\n",
    "#train_data = numpy.loadtxt(train_data_loc);\n",
    "#train_labels = numpy.loadtxt(train_labels_loc);\n",
    "#labels_df = pd.read_csv(train_labels_loc, sep=\" \", header = 0);\n",
    "data_df = pd.read_csv(train_data_loc, sep=\" \", header = 0, index_col=[0]);\n"
   ]
  },
  {
   "cell_type": "markdown",
   "metadata": {},
   "source": [
    "    Basic Data Cleaning Process. \n",
    "    Check for columns which has all NaN's and remove them\n",
    "    Rows do not have any NaN's so we are good to go. "
   ]
  },
  {
   "cell_type": "code",
   "execution_count": 2,
   "metadata": {
    "collapsed": false
   },
   "outputs": [
    {
     "name": "stdout",
     "output_type": "stream",
     "text": [
      "Number of Columns :  29638\n",
      "Number of Rows:  7999\n",
      "Number of Columns after Nan:  29622\n",
      "Number of Rows after Nan:  7999\n"
     ]
    }
   ],
   "source": [
    "# See rows and columns\n",
    "\n",
    "print('Number of Columns : ',len(data_df.columns))\n",
    "print('Number of Rows: ',len(data_df))\n",
    "\n",
    "# See if there are any NaN's \n",
    "#null_cols = data_df.isnull().any();\n",
    "#null_cols = null_cols[null_cols == True];\n",
    "\n",
    "# Drop columns that have all rows as Nan's\n",
    "data_df = data_df.dropna(how='all',axis = 'columns');\n",
    "\n",
    "#data_df = data_df.dropna(how = 'any', axis = 'index');\n",
    "\n",
    "# Number of columns dropped = 16\n",
    "\n",
    "# Drop 1st row and 1st column  as they contain just index \n",
    "# \n",
    "\n",
    "#data_df = data_df.drop(data_df.columns[0], axis=1)\n",
    "\n",
    "#data_df = data_df.drop(data_df.index[0])\n",
    "\n",
    "print('Number of Columns after Nan: ', len(data_df.columns))\n",
    "\n",
    "print('Number of Rows after Nan: ', len(data_df))\n",
    "\n",
    "# save without NA's \n",
    "\n",
    "#data_df.to_csv('data_without_na.csv')"
   ]
  },
  {
   "cell_type": "markdown",
   "metadata": {},
   "source": [
    "    Find mean, variance, mode of each feature to get an idea\n",
    "    Also, we focus on high variance features because they'll contribute to classification\n",
    "    We take variance of each column and find mean of variance, and features who's variance is pretty low then rest \n",
    "    of the features we remove them. Essentially, we are trying to take best 70% of columns with high variance.\n",
    "    From now onwards you can use the new feature selection csv"
   ]
  },
  {
   "cell_type": "code",
   "execution_count": 3,
   "metadata": {
    "collapsed": false
   },
   "outputs": [
    {
     "name": "stdout",
     "output_type": "stream",
     "text": [
      "Features in dataframe  29622\n",
      "Selector is created. Now fitting the data\n"
     ]
    }
   ],
   "source": [
    "#column_variance = data_df.var();\n",
    "\n",
    "# Get mean of all variances to understand which columns with low variances can we remove\n",
    "#column_variance.to_csv(path='column_variance.csv')\n",
    "\n",
    "#print('Features in original dataframe', len(column_variance) )\n",
    "\n",
    "# get quick summary of all datasets \n",
    "#print(column_variance.describe())\n",
    " \n",
    "#mean_variances = column_variance.mean()\n",
    "#print('Mean Of variances ', mean_variances)\n",
    "\n",
    "# Remove columns whose variance is less than \n",
    "# 1/4 of mean of variance.\n",
    "\n",
    "#cut_off_margin = 0.25;\n",
    "#margin = mean_variances - cut_off_margin*mean_variances; \n",
    "\n",
    "#df = data_df.loc[:, data_df.var() > margin]\n",
    "#print('Features in dataframe ', len(df.columns))\n",
    "\n",
    "print('Features in dataframe ', len(data_df.columns))\n",
    "cutoff_threshold = 0.513320024;\n",
    "selector = VarianceThreshold(threshold= cutoff_threshold);\n",
    "print('Selector is created. Now fitting the data')\n",
    "selected_features = selector.fit_transform(data_df);\n"
   ]
  },
  {
   "cell_type": "code",
   "execution_count": 4,
   "metadata": {
    "collapsed": false
   },
   "outputs": [
    {
     "name": "stdout",
     "output_type": "stream",
     "text": [
      "After Variance threshold features are reduced to (7999, 16)\n"
     ]
    }
   ],
   "source": [
    "print('After Variance threshold features are reduced to',selected_features.shape)\n",
    "df = pd.DataFrame(data= selected_features);\n",
    "df.to_csv('feature_selection'+str(cutoff_threshold)+'.csv')\n"
   ]
  },
  {
   "cell_type": "code",
   "execution_count": null,
   "metadata": {
    "collapsed": false
   },
   "outputs": [],
   "source": [
    "#data_df.loc[1,0]\n",
    "#colnames = df.columns.values.tolist()\n",
    "#print(colnames)\n",
    "\n",
    "print('Number of Columns : ',len(data_df.columns))\n",
    "print('Number of Rows: ',len(data_df))\n",
    "\n",
    "df = data_df.dropna(how='all',axis = 'columns');\n",
    "\n",
    "print(len(df))"
   ]
  },
  {
   "cell_type": "code",
   "execution_count": null,
   "metadata": {
    "collapsed": false
   },
   "outputs": [],
   "source": [
    "print(len(data_df.columns))\n",
    "\n",
    "print(data_df.isnull().any().any())\n",
    "print(df.isnull().any().any())\n",
    "\n"
   ]
  }
 ],
 "metadata": {
  "anaconda-cloud": {},
  "kernelspec": {
   "display_name": "Python [conda root]",
   "language": "python",
   "name": "conda-root-py"
  },
  "language_info": {
   "codemirror_mode": {
    "name": "ipython",
    "version": 3
   },
   "file_extension": ".py",
   "mimetype": "text/x-python",
   "name": "python",
   "nbconvert_exporter": "python",
   "pygments_lexer": "ipython3",
   "version": "3.5.2"
  }
 },
 "nbformat": 4,
 "nbformat_minor": 1
}
